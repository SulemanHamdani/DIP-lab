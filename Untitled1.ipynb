{
 "cells": [
  {
   "cell_type": "code",
   "execution_count": 38,
   "id": "1f82b2e4",
   "metadata": {},
   "outputs": [],
   "source": [
    "def removeChar(s, char):\n",
    "    s = s.replace(char, \"\")\n",
    "    return s\n",
    "\n",
    "def removeCharUsingIndex(s, i):\n",
    "    a = s[ : i]\n",
    "    b = s[i + 1: ]\n",
    "    return a + b"
   ]
  },
  {
   "cell_type": "code",
   "execution_count": 40,
   "id": "0bba810f",
   "metadata": {},
   "outputs": [
    {
     "name": "stdout",
     "output_type": "stream",
     "text": [
      "Press 1 to specify a character.\n",
      "Press 2 to specify an index\n",
      "2\n",
      "Enter an index: \n",
      "2\n",
      "Helo, my name is xyz\n"
     ]
    }
   ],
   "source": [
    "string = \"Hello, my name is xyz\"\n",
    "print(\"Press 1 to specify a character.\\nPress 2 to specify an index\")\n",
    "userInput = input()\n",
    "if (userInput == '1'):\n",
    "    print(\"Enter a character: \")\n",
    "    userInput = input()\n",
    "    print(removeChar(string, userInput))\n",
    "\n",
    "else:\n",
    "     print(\"Enter an index: \")\n",
    "     userInput = input()\n",
    "     userInput = int(userInput)\n",
    "     print(removeCharUsingIndex(string, userInput))"
   ]
  },
  {
   "cell_type": "code",
   "execution_count": 46,
   "id": "d32440b6",
   "metadata": {},
   "outputs": [],
   "source": [
    "def insertionSort(array):\n",
    "\n",
    "    for step in range(1, len(array)):\n",
    "        key = array[step]\n",
    "        j = step - 1\n",
    "        \n",
    "        while j >= 0 and key < array[j]:\n",
    "            array[j + 1] = array[j]\n",
    "            j = j - 1\n",
    "            \n",
    "        array[j + 1] = key\n",
    "        \n",
    "    return array"
   ]
  },
  {
   "cell_type": "code",
   "execution_count": 47,
   "id": "92e5b315",
   "metadata": {},
   "outputs": [
    {
     "name": "stdout",
     "output_type": "stream",
     "text": [
      "[1, 3, 4, 5, 9]\n",
      "--- 0.0009958744049072266 seconds ---\n"
     ]
    }
   ],
   "source": [
    "import time\n",
    "arr = [9, 5, 1, 4, 3]\n",
    "start_time = time.time()\n",
    "arr = insertionSort(arr)\n",
    "print (arr)\n",
    "print(\"--- %s seconds ---\" % (time.time() - start_time))"
   ]
  },
  {
   "cell_type": "code",
   "execution_count": null,
   "id": "09b84db8",
   "metadata": {},
   "outputs": [],
   "source": []
  }
 ],
 "metadata": {
  "kernelspec": {
   "display_name": "Python 3 (ipykernel)",
   "language": "python",
   "name": "python3"
  },
  "language_info": {
   "codemirror_mode": {
    "name": "ipython",
    "version": 3
   },
   "file_extension": ".py",
   "mimetype": "text/x-python",
   "name": "python",
   "nbconvert_exporter": "python",
   "pygments_lexer": "ipython3",
   "version": "3.10.1"
  }
 },
 "nbformat": 4,
 "nbformat_minor": 5
}
