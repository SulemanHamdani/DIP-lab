{
 "cells": [
  {
   "cell_type": "code",
   "execution_count": 7,
   "id": "36d1819c",
   "metadata": {},
   "outputs": [],
   "source": [
    "def removeChar(s, char):\n",
    "    s = s.replace(char, \"\")\n",
    "    return s\n",
    "\n",
    "def removeCharUsingIndex(s, index):\n",
    "    for i in range(len(s)):\n",
    "        if i == index:\n",
    "            s = s.replace(s[i],\"\")\n",
    "            print (s)\n",
    "            break\n",
    "    return s"
   ]
  },
  {
   "cell_type": "code",
   "execution_count": 15,
   "id": "40531bc9",
   "metadata": {},
   "outputs": [
    {
     "name": "stdout",
     "output_type": "stream",
     "text": [
      "Press 1 to specify a character.\n",
      "Press 2 to specify an index\n",
      "1\n"
     ]
    }
   ],
   "source": [
    "string = \"Hello, my name is xyz\"\n",
    "print(\"Press 1 to specify a character.\\nPress 2 to specify an index\")\n",
    "userInput = input()\n",
    "if (userInput == 1):\n",
    "    print(\"Enter a character: \")\n",
    "    userInput = input()\n",
    "    print(removeChar(string, userInput))\n",
    "\n",
    "# else:\n",
    "#     print(\"Enter an index: \")\n",
    "#     userInput = input()\n",
    "#     print(removeCharUsingIndex(string, userInput))"
   ]
  },
  {
   "cell_type": "code",
   "execution_count": null,
   "id": "d4c1b2db",
   "metadata": {},
   "outputs": [],
   "source": []
  }
 ],
 "metadata": {
  "kernelspec": {
   "display_name": "Python 3 (ipykernel)",
   "language": "python",
   "name": "python3"
  },
  "language_info": {
   "codemirror_mode": {
    "name": "ipython",
    "version": 3
   },
   "file_extension": ".py",
   "mimetype": "text/x-python",
   "name": "python",
   "nbconvert_exporter": "python",
   "pygments_lexer": "ipython3",
   "version": "3.10.1"
  }
 },
 "nbformat": 4,
 "nbformat_minor": 5
}
