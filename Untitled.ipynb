{
 "cells": [
  {
   "cell_type": "code",
   "execution_count": null,
   "id": "c34ec99d",
   "metadata": {},
   "outputs": [],
   "source": [
    "def removeChar(s, char):\n",
    "    s = s.replace(char, \"\")\n",
    "\n",
    "def removeChar(s, index):\n",
    "    for i in range(len(s)):\n",
    "        if i == index:\n",
    "            s = s.replace(s[i],\"\")\n",
    "            break"
   ]
  },
  {
   "cell_type": "code",
   "execution_count": null,
   "id": "fb0a8ac7",
   "metadata": {},
   "outputs": [],
   "source": [
    "print(\"Press 1 to specify a character.\\nPress 2 to specify an index\")\n",
    "userInput = input()\n",
    "if userInput == 1:\n",
    "    print(\"Enter a character: \")\n",
    "    us"
   ]
  },
  {
   "cell_type": "code",
   "execution_count": null,
   "id": "21254fe1",
   "metadata": {},
   "outputs": [],
   "source": []
  }
 ],
 "metadata": {
  "kernelspec": {
   "display_name": "Python 3 (ipykernel)",
   "language": "python",
   "name": "python3"
  },
  "language_info": {
   "codemirror_mode": {
    "name": "ipython",
    "version": 3
   },
   "file_extension": ".py",
   "mimetype": "text/x-python",
   "name": "python",
   "nbconvert_exporter": "python",
   "pygments_lexer": "ipython3",
   "version": "3.10.1"
  }
 },
 "nbformat": 4,
 "nbformat_minor": 5
}
